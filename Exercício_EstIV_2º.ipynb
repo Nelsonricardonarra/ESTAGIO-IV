{
  "nbformat": 4,
  "nbformat_minor": 0,
  "metadata": {
    "colab": {
      "name": "Exercício EstIV 2º",
      "provenance": [],
      "collapsed_sections": [],
      "include_colab_link": true
    },
    "kernelspec": {
      "name": "python3",
      "display_name": "Python 3"
    },
    "language_info": {
      "name": "python"
    }
  },
  "cells": [
    {
      "cell_type": "markdown",
      "metadata": {
        "id": "view-in-github",
        "colab_type": "text"
      },
      "source": [
        "<a href=\"https://colab.research.google.com/github/Nelsonricardonarra/ESTAGIO-IV/blob/main/Exerc%C3%ADcio_EstIV_2%C2%BA.ipynb\" target=\"_parent\"><img src=\"https://colab.research.google.com/assets/colab-badge.svg\" alt=\"Open In Colab\"/></a>"
      ]
    },
    {
      "cell_type": "markdown",
      "source": [
        "#Segunda Unidade\n",
        "##2º Lista de exercícios \n",
        "\n",
        "Exercícios com base nas aulas do dia 16/05 e 20/05 e deverá ser enviado até segunda (23/05) antes da aula. Dessa maneira, vocês podem me enviar o link dessa lista respondida (lembrar de autorizar qualquer pessoa com link de visualizar) ou fazer o download do arquivo (Arquivo > Fazer download > Fazer download do .ibynb) e me enviar por e-mail. "
      ],
      "metadata": {
        "id": "55ErYTfbMWZx"
      }
    },
    {
      "cell_type": "code",
      "execution_count": null,
      "metadata": {
        "id": "RdhaWX7CL9Cs",
        "colab": {
          "base_uri": "https://localhost:8080/"
        },
        "outputId": "7f61dee2-1a43-4eb5-941f-9e3f963e10bf"
      },
      "outputs": [
        {
          "output_type": "stream",
          "name": "stdout",
          "text": [
            "Qual o dia da semana?terça\n",
            "você precisa trabalhar\n"
          ]
        }
      ],
      "source": [
        "# Exercício 1 - Crie uma estrutura que pergunte ao usuário qual o dia da semana. Se o dia for igual a Domingo ou igual a sábado, imprima na tela \"Hoje é dia de descanso\", caso contrário imprima na tela \"Você precisa trabalhar!\"\n",
        "\n",
        "dia= input('Qual o dia da semana?')\n",
        "if dia == 'Domingo' or dia == 'Sábado':\n",
        "  print ( \"Hoje é dia de descanso\" )\n",
        "else:\n",
        "  print('você precisa trabalhar')"
      ]
    },
    {
      "cell_type": "code",
      "source": [
        "# Exercício 2 - Imprima a sequência de números pares até 70 (de maneira automatizada)\n",
        "\n",
        "for números in range(0, 71):\n",
        "    if números % 2 == 0:\n",
        "        print(números)"
      ],
      "metadata": {
        "id": "6foai8ABMh5J",
        "colab": {
          "base_uri": "https://localhost:8080/"
        },
        "outputId": "8eef4895-d6d4-48bc-b076-bf74082a9764"
      },
      "execution_count": null,
      "outputs": [
        {
          "output_type": "stream",
          "name": "stdout",
          "text": [
            "0\n",
            "2\n",
            "4\n",
            "6\n",
            "8\n",
            "10\n",
            "12\n",
            "14\n",
            "16\n",
            "18\n",
            "20\n",
            "22\n",
            "24\n",
            "26\n",
            "28\n",
            "30\n",
            "32\n",
            "34\n",
            "36\n",
            "38\n",
            "40\n",
            "42\n",
            "44\n",
            "46\n",
            "48\n",
            "50\n",
            "52\n",
            "54\n",
            "56\n",
            "58\n",
            "60\n",
            "62\n",
            "64\n",
            "66\n",
            "68\n",
            "70\n"
          ]
        }
      ]
    },
    {
      "cell_type": "code",
      "source": [
        "# Exercício 3 - Leia um numero fornecido pelo usuario. Se esse numero for positivo, calcule a raiz quadrada do numero. Se o numero for negativo, mostre uma mensagem dizendo que o numero é invalido\n",
        "\n",
        "\n",
        "  \n",
        "\n",
        "\n",
        "num = int(input('Digite um numero: '))\n",
        "if num > 0:\n",
        "        \n",
        "        raizqdra = (num)**(1/2)\n",
        "        \n",
        "        print(f'A raiz do numero digitado é: {raizqdra}')\n",
        "\n",
        "elif num <= 0:\n",
        "        print(\"numero invalido!\")\n",
        "\n",
        "        \n"
      ],
      "metadata": {
        "id": "YAu7pVMgQjhP",
        "colab": {
          "base_uri": "https://localhost:8080/"
        },
        "outputId": "8e38235b-527e-48da-a6cc-6f7338ced03b"
      },
      "execution_count": null,
      "outputs": [
        {
          "output_type": "stream",
          "name": "stdout",
          "text": [
            "Digite um numero: 8\n",
            "A raiz do numero digitado é: 2.8284271247461903\n"
          ]
        }
      ]
    },
    {
      "cell_type": "code",
      "source": [
        "# Exercício 4 - Faça um programa que conte quantas vezes a letra \"e\" aparece na frase abaixo. \n",
        "# \"Receba! e o melhor do mundo! Graças a deus pai!\"\n",
        "\n",
        "frase = \"Receba! e o melhor do mundo!Graças a Deus pai!\"\n",
        " \n",
        "qtde = 0\n",
        " \n",
        "for caracter in frase:\n",
        "    if caracter in 'e':\n",
        "        qtde = qtde + 1\n",
        "        \n",
        "print(\"A frase possui {0} letras 'e'!\".format(qtde))"
      ],
      "metadata": {
        "id": "9zrwvBO4QuKn",
        "colab": {
          "base_uri": "https://localhost:8080/"
        },
        "outputId": "e14fe624-31d0-41a3-cf46-1a5e8a4c51bc"
      },
      "execution_count": null,
      "outputs": [
        {
          "output_type": "stream",
          "name": "stdout",
          "text": [
            "A frase possui 5 letras 'e'!\n"
          ]
        }
      ]
    },
    {
      "cell_type": "code",
      "source": [
        "# Exercício 5 - Faça um programa que receba um numero inteiro e verifique se este numero é par ou ımpar (imprima a resposta)\n",
        "\n",
        "num = int(input(\"Imforme um numero: \"))\n",
        "\n",
        "resultado = num % 2\n",
        "\n",
        "if resultado == 0:\n",
        "    print(\"Este numero é par!\")\n",
        "elif resultado == 1:\n",
        "    print(\"Este numero é impar!\")\n"
      ],
      "metadata": {
        "id": "dOcAfeCXRCyN",
        "colab": {
          "base_uri": "https://localhost:8080/"
        },
        "outputId": "fb34bc78-27c3-40e5-a191-61665e6c0b95"
      },
      "execution_count": null,
      "outputs": [
        {
          "output_type": "stream",
          "name": "stdout",
          "text": [
            "Imforme um numero: 1001\n",
            "Este numero é impar!\n"
          ]
        }
      ]
    },
    {
      "cell_type": "code",
      "source": [
        "# Exercício 6 - Faça um programa que receba do usuario as seguintes informações: o salario e o valor da prestacao de um emprestimo. Se a prestação for maior que 20% do salário imprima: Empréstimo não concedido, caso contrario imprima: Empréstimo concedido\n",
        "\n",
        "\n",
        "prestação=float(input('Valor da prestação: R$'))\n",
        "salário=float(input('Salário do comprador:R$'))\n",
        "min =(salário*(20/100))\n",
        "if prestação <= min:\n",
        "    print(\"emprestimo concedido\")\n",
        "else:\n",
        "    print(\"emprestimo negado!\")\n",
        "\n"
      ],
      "metadata": {
        "id": "BgiHb42sRUCx",
        "colab": {
          "base_uri": "https://localhost:8080/"
        },
        "outputId": "642857f7-ef7a-47fa-8b66-1dc7cfbf0743"
      },
      "execution_count": null,
      "outputs": [
        {
          "output_type": "stream",
          "name": "stdout",
          "text": [
            "Valor da prestação: R$1000\n",
            "Salário do comprador:R$2000\n",
            "emprestimo negado!\n"
          ]
        }
      ]
    },
    {
      "cell_type": "code",
      "source": [
        "# Exercício 7 - Escreva um programa que não saia do loop enquanto o usuário não digitar corretamente a senha, além disso quando o usuário errar imprima a seguinte mensagem: \"dica de senha: campeão brasileiro em 1987\"\n",
        "#senha = sport\n",
        "\n",
        "senha = 'sport'\n",
        "print(\"faça já seu cadastro:\")\n",
        "usuario=str(input(\"usuário--> \"))\n",
        "senha=str(input(\"senha= \"))\n",
        "\n",
        "while senha != 'sport':\n",
        "  print(\" flamengo \")\n",
        "\n",
        "\n",
        "print(\"cadastrado efetuado com sucesso\")\n"
      ],
      "metadata": {
        "id": "IU9QamZpSVSn",
        "colab": {
          "base_uri": "https://localhost:8080/"
        },
        "outputId": "4fff2eb2-96a3-40c0-956a-d9bd133fb72d"
      },
      "execution_count": null,
      "outputs": [
        {
          "output_type": "stream",
          "name": "stdout",
          "text": [
            "faça já seu cadastro:\n",
            "usuário--> n\n",
            "senha= sport\n",
            "cadastrado efetuado com sucesso\n"
          ]
        }
      ]
    },
    {
      "cell_type": "code",
      "source": [
        "#Exercício 8 - Faça uma calculadora das quatro principais operações, na qual você pedirá ao usuário dois números e qual operação matemática será feita, com base nessas informações você deve imprimir a resposta.\n",
        "\n",
        "operacao = input(\"Digite a operacao desejada (soma, sub, multiplicação, divisão): \")\n",
        "numero1 = input(\"Digite o primeiro número: \")\n",
        "numero2 = input(\"Digite o segundo número: \")\n",
        "\n",
        "if operacao == \"soma\":\n",
        "\tresultado = int(numero1) + int(numero2) \n",
        "if operacao == \"sub\":\n",
        "\tresultado = int(numero1) - int(numero2)\n",
        "if operacao == \"multiplicação\":\n",
        "\tresultado = int(numero1) * int(numero2)\n",
        "if operacao == \"divisão\":\n",
        "\tresultado = int(numero1) / int(numero2)\n",
        "print(\"O resultado da operação é: \", resultado)\n",
        "\n",
        "    \n"
      ],
      "metadata": {
        "id": "HsfvqQQgMwIk",
        "colab": {
          "base_uri": "https://localhost:8080/"
        },
        "outputId": "de3eb2b2-4ea5-4b61-c780-5a8861ccfd7a"
      },
      "execution_count": null,
      "outputs": [
        {
          "output_type": "stream",
          "name": "stdout",
          "text": [
            "Digite a operacao desejada (soma, sub, multiplicação, divisão): soma\n",
            "Digite o primeiro número: 5\n",
            "Digite o segundo número: 6\n",
            "O resultado da operação é:  11\n"
          ]
        }
      ]
    }
  ]
}