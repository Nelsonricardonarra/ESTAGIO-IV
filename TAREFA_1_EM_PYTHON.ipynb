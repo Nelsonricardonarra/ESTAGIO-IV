{
  "nbformat": 4,
  "nbformat_minor": 0,
  "metadata": {
    "colab": {
      "name": "TAREFA 1 EM PYTHON",
      "provenance": [],
      "authorship_tag": "ABX9TyOjlu1Xy18O9akXr4aA0Owk",
      "include_colab_link": true
    },
    "kernelspec": {
      "name": "python3",
      "display_name": "Python 3"
    },
    "language_info": {
      "name": "python"
    }
  },
  "cells": [
    {
      "cell_type": "markdown",
      "metadata": {
        "id": "view-in-github",
        "colab_type": "text"
      },
      "source": [
        "<a href=\"https://colab.research.google.com/github/Nelsonricardonarra/ESTAGIO-IV/blob/main/TAREFA_1_EM_PYTHON.ipynb\" target=\"_parent\"><img src=\"https://colab.research.google.com/assets/colab-badge.svg\" alt=\"Open In Colab\"/></a>"
      ]
    },
    {
      "cell_type": "code",
      "execution_count": null,
      "metadata": {
        "colab": {
          "base_uri": "https://localhost:8080/"
        },
        "id": "fO1cGi5lj6T9",
        "outputId": "dcf97d8f-b3b6-468b-b284-cdaeef214703"
      },
      "outputs": [
        {
          "output_type": "stream",
          "name": "stdout",
          "text": [
            "[1, 2, 3, 4, 5, 6, 7, 8, 9, 10]\n"
          ]
        }
      ],
      "source": [
        "# Exercício 1 - Imprima na tela os números de 1 a 10. Use uma lista para armazenar os números.\n",
        "\n",
        "numeros = [1,2,3,4,5,6,7,8,9,10]\n",
        "print(numeros)\n",
        "\n"
      ]
    },
    {
      "cell_type": "code",
      "source": [
        "# Exercício 2 - Crie uma lista de 5 objetos e imprima na tela\n",
        "LIST=['Sanduíche','Refrigerante','Maionese','Mostarda','Guardanapo']\n",
        "print(LIST)\n"
      ],
      "metadata": {
        "colab": {
          "base_uri": "https://localhost:8080/"
        },
        "id": "H9rAZS1vkEVI",
        "outputId": "76b896fc-daee-4b47-a51c-976ad4d5e8b8"
      },
      "execution_count": null,
      "outputs": [
        {
          "output_type": "stream",
          "name": "stdout",
          "text": [
            "['Sanduíche', 'Refrigerante', 'Maionese', 'Mostarda', 'Guardanapo']\n"
          ]
        }
      ]
    },
    {
      "cell_type": "code",
      "source": [
        "# Exercício 3 - Crie duas strings e concatene as duas em uma terceira string (com um espaço entre elas)\n",
        "str= \"João\"\n",
        "str=str + \" Pessoa\"\n",
        "str"
      ],
      "metadata": {
        "colab": {
          "base_uri": "https://localhost:8080/",
          "height": 35
        },
        "id": "Lk7GfBhikSHM",
        "outputId": "7f255501-a37f-4377-8052-094895ea700f"
      },
      "execution_count": null,
      "outputs": [
        {
          "output_type": "execute_result",
          "data": {
            "text/plain": [
              "'João Pessoa'"
            ],
            "application/vnd.google.colaboratory.intrinsic+json": {
              "type": "string"
            }
          },
          "metadata": {},
          "execution_count": 3
        }
      ]
    },
    {
      "cell_type": "code",
      "source": [
        "# Exercício 4 - Crie uma lista de 4 elementos. O primeiro elemento deve ser uma string, \n",
        "# o segundo um inteiro, o terceiro um float e quarto um booleano.\n",
        "# Imprima a lista na tela.\n",
        "str= \"Prova\"\n",
        "dia= \"19\"\n",
        "hora= \"18.3\"\n",
        "nota= \"00001010\"\n",
        "list=[str,dia,hora,nota]\n",
        "print(list)"
      ],
      "metadata": {
        "colab": {
          "base_uri": "https://localhost:8080/"
        },
        "id": "UNQTSDibkWuo",
        "outputId": "5ca4c9a4-d6b7-4b3a-c2d7-aa18fa8562ac"
      },
      "execution_count": null,
      "outputs": [
        {
          "output_type": "stream",
          "name": "stdout",
          "text": [
            "['Prova', '19', '18.3', '00001010']\n"
          ]
        }
      ]
    },
    {
      "cell_type": "code",
      "source": [
        "# Exercício 5 - Considere a string abaixo. Imprima na tela apenas o nome \"atuaria\".\n",
        "curso = \"ciências atuariais\"\n",
        "curso[9:16]\n"
      ],
      "metadata": {
        "colab": {
          "base_uri": "https://localhost:8080/",
          "height": 35
        },
        "id": "ddL2UDqmkfUH",
        "outputId": "e807d12c-0cc5-41ec-d0fa-aed2d3b9b3e0"
      },
      "execution_count": null,
      "outputs": [
        {
          "output_type": "execute_result",
          "data": {
            "text/plain": [
              "'atuaria'"
            ],
            "application/vnd.google.colaboratory.intrinsic+json": {
              "type": "string"
            }
          },
          "metadata": {},
          "execution_count": 5
        }
      ]
    },
    {
      "cell_type": "code",
      "source": [
        "# Exercício 6 - Crie uma variável tipo inteira e converta para tipo float.\n",
        "x=384\n",
        "print(f'Na representação floot do  inteiro 384 com uma casa decimal é {x:.1f}')\n"
      ],
      "metadata": {
        "colab": {
          "base_uri": "https://localhost:8080/"
        },
        "id": "uEAk7LW0kmSC",
        "outputId": "da1b387a-1553-4f22-e627-0f2d0ba60792"
      },
      "execution_count": null,
      "outputs": [
        {
          "output_type": "stream",
          "name": "stdout",
          "text": [
            "Na representação floot do  inteiro 384 com uma casa decimal é 384.0\n"
          ]
        }
      ]
    },
    {
      "cell_type": "code",
      "source": [
        "# Exercício 7 - Faça uma divisão retorando um número inteiro como resultado\n",
        "\n",
        "x=100\n",
        "y=30\n",
        "x//y"
      ],
      "metadata": {
        "colab": {
          "base_uri": "https://localhost:8080/"
        },
        "id": "b1U0VFtik3xK",
        "outputId": "3cf576c0-6334-4b9d-c995-9dd549f7b764"
      },
      "execution_count": null,
      "outputs": [
        {
          "output_type": "execute_result",
          "data": {
            "text/plain": [
              "3"
            ]
          },
          "metadata": {},
          "execution_count": 7
        }
      ]
    },
    {
      "cell_type": "code",
      "source": [
        "# Exercício 8 - Imprima a frase \"Palmeiras não tem mundial\" cinco vezes, através de código e sem digitar mais de uma vez a frase.# Exercício 8 - Imprima a frase \"Palmeiras não tem mundial\" cinco vezes, através de código e sem digitar mais de uma vez a frase. \n",
        "for i in range(5):\n",
        "    print(\"Palmeiras não tem mundial\")\n"
      ],
      "metadata": {
        "colab": {
          "base_uri": "https://localhost:8080/"
        },
        "id": "1Iaa-CgQk-sx",
        "outputId": "0dc34fe7-27e7-4d6e-ac33-5495a86b1028"
      },
      "execution_count": null,
      "outputs": [
        {
          "output_type": "stream",
          "name": "stdout",
          "text": [
            "Palmeiras não tem mundial\n",
            "Palmeiras não tem mundial\n",
            "Palmeiras não tem mundial\n",
            "Palmeiras não tem mundial\n",
            "Palmeiras não tem mundial\n"
          ]
        }
      ]
    },
    {
      "cell_type": "code",
      "source": [
        "# Exercício 9 - Crie cada uma das 5 classes de variaveis ensinadas e imprima o tipo da variavel\n",
        "#(sem escrever o nome da variável).\n",
        "\n",
        "A=2\n",
        "B=4.5 \n",
        "C=\"ESTÁGIO\"\n",
        "D=[\"TRABALHO\",'EXPERIÊNCIA',\"RECONHECIMENTO\",\"REMUNERAÇÃO\"]\n",
        "E=True\n",
        "variáveis=[\"A\",\"B\",\"C\",\"D\",\"E\"]\n",
        "type(A),type(B),type(C),type(D),type(E)"
      ],
      "metadata": {
        "colab": {
          "base_uri": "https://localhost:8080/"
        },
        "id": "dqt9o7cnlJy2",
        "outputId": "70cb2ab6-face-48a4-8860-c8927fddee47"
      },
      "execution_count": null,
      "outputs": [
        {
          "output_type": "execute_result",
          "data": {
            "text/plain": [
              "(int, float, str, list, bool)"
            ]
          },
          "metadata": {},
          "execution_count": 9
        }
      ]
    },
    {
      "cell_type": "code",
      "source": [
        "# Exercício 10 - Dada a lista de compras abaixo, substitua maças por bananas \n",
        "listadomercado = [\"ovos\", \"farinha\", \"leite\", \"maças\"]\n",
        "listadomercado[3]=\"bananas\"\n",
        "print(listadomercado)\n"
      ],
      "metadata": {
        "colab": {
          "base_uri": "https://localhost:8080/"
        },
        "id": "TscMhtXGlQcc",
        "outputId": "06fdb142-5dc5-449a-c2a3-b086126ef456"
      },
      "execution_count": null,
      "outputs": [
        {
          "output_type": "stream",
          "name": "stdout",
          "text": [
            "['ovos', 'farinha', 'leite', 'bananas']\n"
          ]
        }
      ]
    },
    {
      "cell_type": "code",
      "source": [
        "# Exercício 11 - Print a lista de compras abaixo, sem o item \"ovos\" \n",
        "listadomercado = [\"ovos\", \"farinha\", \"leite\", \"maças\"]\n",
        "listadomercado.pop(0)\n",
        "print(listadomercado)\n"
      ],
      "metadata": {
        "colab": {
          "base_uri": "https://localhost:8080/"
        },
        "id": "wPT5lNDzlXc6",
        "outputId": "3a2fc9f1-4359-461f-8f25-f3643f61bb0e"
      },
      "execution_count": null,
      "outputs": [
        {
          "output_type": "stream",
          "name": "stdout",
          "text": [
            "['farinha', 'leite', 'maças']\n"
          ]
        }
      ]
    },
    {
      "cell_type": "code",
      "source": [
        "# Exercício 12 - Dada a lista de compras abaixo, adicione cerveja, carne e carvão (#sextou) e imprima a nova lista.\n",
        "listadomercado = [\"ovos\", \"farinha\", \"leite\", \"maças\"]\n",
        "listadomercado+=[\"cerveja\",\"carne\",\"carvão\",\"(#sextou)\"]\n",
        "print(listadomercado)"
      ],
      "metadata": {
        "colab": {
          "base_uri": "https://localhost:8080/"
        },
        "id": "9kU8Y0wzlcWX",
        "outputId": "4ab13bdd-7091-4c58-fb0e-24848afdbe8d"
      },
      "execution_count": null,
      "outputs": [
        {
          "output_type": "stream",
          "name": "stdout",
          "text": [
            "['ovos', 'farinha', 'leite', 'maças', 'cerveja', 'carne', 'carvão', '(#sextou)']\n"
          ]
        }
      ]
    },
    {
      "cell_type": "code",
      "source": [
        "# Exercício 13 - Print a lista de compras abaixo, sem o item \"farinha\" \n",
        "listadomercado = [\"ovos\", \"farinha\", \"leite\", \"maças\"]\n",
        "listadomercado.pop(1)\n",
        "print(listadomercado)"
      ],
      "metadata": {
        "id": "lq-dVdH4ljwg"
      },
      "execution_count": null,
      "outputs": []
    },
    {
      "cell_type": "code",
      "source": [
        "# Exercício 14 - Arredonde a variável x para 1.\n",
        "x = 9 / 10\n",
        "print(round(x))\n"
      ],
      "metadata": {
        "colab": {
          "base_uri": "https://localhost:8080/"
        },
        "id": "53NMqoFFloeC",
        "outputId": "d43a67f8-d961-4ad5-cf3a-98e70377f176"
      },
      "execution_count": null,
      "outputs": [
        {
          "output_type": "stream",
          "name": "stdout",
          "text": [
            "1\n"
          ]
        }
      ]
    }
  ]
}